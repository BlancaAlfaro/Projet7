{
 "cells": [
  {
   "cell_type": "code",
   "execution_count": null,
   "metadata": {},
   "outputs": [],
   "source": [
    "\n",
    "import pandas as pd\n",
    "import sys\n",
    "import os\n",
    "\n",
    "import numpy as np\n",
    "import seaborn as sns\n",
    "import matplotlib.pyplot as plt\n",
    "import missingno as msno\n",
    "import mlflow\n",
    "import shap\n",
    "import boto3\n",
    "\n",
    "from lightgbm import LGBMClassifier\n",
    "from imblearn.over_sampling import SMOTE\n",
    "from imblearn.pipeline import Pipeline\n",
    "from mlflow import MlflowClient\n",
    "from mlflow.exceptions import MlflowException\n",
    "from pprint import pprint\n",
    "from sklearn.dummy import DummyClassifier\n",
    "from sklearn.linear_model import LogisticRegression\n",
    "from sklearn.ensemble import RandomForestClassifier\n",
    "from sklearn.preprocessing import StandardScaler\n",
    "from sklearn.metrics import make_scorer,confusion_matrix,ConfusionMatrixDisplay,roc_auc_score\n",
    "from sklearn.svm import SVC\n",
    "from xgboost import XGBClassifier"
   ]
  },
  {
   "cell_type": "code",
   "execution_count": null,
   "metadata": {},
   "outputs": [],
   "source": [
    "sys.path.append(os.path.abspath(os.path.join('..')))"
   ]
  },
  {
   "cell_type": "code",
   "execution_count": null,
   "metadata": {},
   "outputs": [],
   "source": [
    "from src.lightgbm_with_simple_features import main\n",
    "from src.model_prep import get_initial_splits, get_grid_cv_scores,plot_metric_results"
   ]
  },
  {
   "cell_type": "markdown",
   "metadata": {},
   "source": [
    "# MLFlow setup"
   ]
  },
  {
   "cell_type": "markdown",
   "metadata": {},
   "source": [
    "Before this, run \n",
    "```bash\n",
    "mlflow server --host 127.0.0.1 --port 8080\n",
    "```\n",
    "in the terminal"
   ]
  },
  {
   "cell_type": "code",
   "execution_count": null,
   "metadata": {},
   "outputs": [],
   "source": [
    "client = MlflowClient(tracking_uri=\"http://127.0.0.1:8080\")"
   ]
  },
  {
   "cell_type": "code",
   "execution_count": null,
   "metadata": {},
   "outputs": [],
   "source": [
    "# Experiment description\n",
    "experiment_description = (\n",
    "    \"OpenClassrooms - Projet 7 \"\n",
    "    \"Implémentation d'un modèle de scoring pour des crédits\"\n",
    ")\n",
    "experiment_tags = {\n",
    "    \"mlflow.note.content\": experiment_description,\n",
    "}\n",
    "\n",
    "# Create the Experiment\n",
    "try:\n",
    "    scoring_experiment = client.create_experiment(\n",
    "    name=\"Loan_Risk_Models\",tags=experiment_tags,artifact_location='s3://p7mlflowartifacts/20240405_artifacts/')\n",
    "except MlflowException as e:\n",
    "    print (e)"
   ]
  },
  {
   "cell_type": "code",
   "execution_count": null,
   "metadata": {},
   "outputs": [],
   "source": [
    "all_experiments = client.search_experiments()\n",
    "\n",
    "print(all_experiments)"
   ]
  },
  {
   "cell_type": "code",
   "execution_count": null,
   "metadata": {},
   "outputs": [],
   "source": [
    "mlflow.set_tracking_uri(uri=\"http://127.0.0.1:8080\")\n",
    "mlflow.set_experiment(\"Loan_Risk_Models\")"
   ]
  },
  {
   "cell_type": "markdown",
   "metadata": {},
   "source": [
    "# Data loading"
   ]
  },
  {
   "cell_type": "markdown",
   "metadata": {},
   "source": [
    "Lightgbm_with_simple_features kernel from kaggle ([link](https://www.kaggle.com/code/jsaguiar/lightgbm-with-simple-features/script)) has been slightly modified and will be used for data preprocessing and feature engineering.\n",
    "Modifications made are :\n",
    "- Dropping columns with missing values.\n",
    "- Replacing inf values due to division by zero with nans."
   ]
  },
  {
   "cell_type": "code",
   "execution_count": null,
   "metadata": {},
   "outputs": [],
   "source": [
    "df=main()"
   ]
  },
  {
   "cell_type": "code",
   "execution_count": null,
   "metadata": {},
   "outputs": [],
   "source": [
    "df"
   ]
  },
  {
   "cell_type": "code",
   "execution_count": null,
   "metadata": {},
   "outputs": [],
   "source": [
    "kaggle_df,X_train,X_test,y_train,y_test=get_initial_splits(df)"
   ]
  },
  {
   "cell_type": "code",
   "execution_count": null,
   "metadata": {},
   "outputs": [],
   "source": [
    "plt.pie(df['TARGET'].value_counts(),autopct='%1.0f%%')\n",
    "plt.legend(labels=df['TARGET'].value_counts().index)\n",
    "plt.title(\"Proportion d'individus par classe\")\n",
    "plt.show()"
   ]
  },
  {
   "cell_type": "code",
   "execution_count": null,
   "metadata": {},
   "outputs": [],
   "source": [
    "scaler=StandardScaler()\n",
    "X_train_scaled=scaler.fit_transform(X_train)\n",
    "X_train_scaled=pd.DataFrame(X_train_scaled,columns=X_train.columns,index=X_train.index)\n",
    "X_test_scaled=scaler.transform(X_test)\n",
    "X_test_scaled=pd.DataFrame(X_test_scaled,columns=X_test.columns,index=X_test.index)"
   ]
  },
  {
   "cell_type": "code",
   "execution_count": null,
   "metadata": {},
   "outputs": [],
   "source": [
    "#This features come from feature selection after first run of model selection (see below)\n",
    "features_to_keep=['NAME_INCOME_TYPE_Working',\n",
    " 'HOUSETYPE_MODE_block of flats',\n",
    " 'NAME_EDUCATION_TYPE_Higher education',\n",
    " 'FLAG_OWN_CAR',\n",
    " 'CNT_CHILDREN',\n",
    " 'WALLSMATERIAL_MODE_Stone, brick',\n",
    " 'REGION_RATING_CLIENT_W_CITY',\n",
    " 'DAYS_REGISTRATION',\n",
    " 'FLAG_PHONE',\n",
    " 'REGION_RATING_CLIENT',\n",
    " 'REGION_POPULATION_RELATIVE',\n",
    " 'NAME_EDUCATION_TYPE_Secondary / secondary special',\n",
    " 'NAME_INCOME_TYPE_Commercial associate',\n",
    " 'NAME_INCOME_TYPE_Pensioner',\n",
    " 'NAME_TYPE_SUITE_Unaccompanied',\n",
    " 'WEEKDAY_APPR_PROCESS_START_TUESDAY',\n",
    " 'REG_CITY_NOT_WORK_CITY']"
   ]
  },
  {
   "cell_type": "code",
   "execution_count": null,
   "metadata": {},
   "outputs": [],
   "source": [
    "X_train_select=X_train_scaled[features_to_keep]\n",
    "X_train_select.shape"
   ]
  },
  {
   "cell_type": "code",
   "execution_count": null,
   "metadata": {},
   "outputs": [],
   "source": [
    "X_test_select=X_test_scaled[features_to_keep]\n",
    "X_test_select.shape"
   ]
  },
  {
   "cell_type": "markdown",
   "metadata": {},
   "source": [
    "X_test will also be used as \"new\" clients data to make predictions with the API."
   ]
  },
  {
   "cell_type": "code",
   "execution_count": null,
   "metadata": {},
   "outputs": [],
   "source": [
    "#Save a local copy\n",
    "X_test.to_csv('../data/X_test.csv')\n",
    "#Save a copy to AWS\n",
    "s3_client = boto3.client('s3')\n",
    "\n",
    "output_file = 'X_test.csv'\n",
    "s3_client.upload_file(\"../data/X_test.csv\", \"clientsdataxtest\",'X_test.csv')"
   ]
  },
  {
   "cell_type": "markdown",
   "metadata": {},
   "source": [
    "# Model selection"
   ]
  },
  {
   "cell_type": "code",
   "execution_count": null,
   "metadata": {},
   "outputs": [],
   "source": [
    "print(X_train_scaled.shape,y_train.shape)"
   ]
  },
  {
   "cell_type": "markdown",
   "metadata": {},
   "source": [
    "Computing times are too high, model selection will be done with a sample of data."
   ]
  },
  {
   "cell_type": "code",
   "execution_count": null,
   "metadata": {},
   "outputs": [],
   "source": [
    "sample=pd.concat([X_train_scaled,y_train],axis=1).sample(1000,random_state=33)\n",
    "X_train_sample=sample.copy()\n",
    "y_train_sample=X_train_sample.pop('TARGET')"
   ]
  },
  {
   "cell_type": "code",
   "execution_count": null,
   "metadata": {},
   "outputs": [],
   "source": [
    "#Check if proportion of classes was kept\n",
    "print('Initial proportion :',\n",
    "y_train.value_counts()/len(y_train))\n",
    "\n",
    "print('Sample proportion',y_train_sample.value_counts()/len(y_train_sample))"
   ]
  },
  {
   "cell_type": "code",
   "execution_count": null,
   "metadata": {},
   "outputs": [],
   "source": [
    "def custom_loss(y_true, y_pred):\n",
    "    \"\"\"Compute custom loss from y_true and y_pred to score models with\n",
    "\n",
    "    Parameters\n",
    "    ----------\n",
    "    y_true : pd.Series\n",
    "        True labels (0 or 1)\n",
    "    y_pred : pd.Series\n",
    "        Labels predicted by the model\n",
    "\n",
    "    Returns\n",
    "    -------\n",
    "    int\n",
    "        Score obtained considering a loan given and not reimbursed is 10x worse than a loan not given to a client who would reinburse-it.\n",
    "    \"\"\"\n",
    "    #FP = loan not given to good client, FN loan given to bad client.\n",
    "    _, fp, fn, _ = confusion_matrix(y_true, y_pred).ravel()\n",
    "    return fn*10+fp\n",
    "\n",
    "custom_score = make_scorer(custom_loss, greater_is_better=False)"
   ]
  },
  {
   "cell_type": "markdown",
   "metadata": {},
   "source": [
    "### Dummy Baseline"
   ]
  },
  {
   "cell_type": "code",
   "execution_count": null,
   "metadata": {},
   "outputs": [],
   "source": [
    "mlflow.sklearn.autolog(extra_tags={'mlflow.runName': 'DummyRegressor'})"
   ]
  },
  {
   "cell_type": "code",
   "execution_count": null,
   "metadata": {},
   "outputs": [],
   "source": [
    "model=DummyClassifier()\n",
    "params={'classification__strategy':['most_frequent']}\n",
    "_,results_dummy=get_grid_cv_scores(model,params,custom_score=custom_score,X_train=X_train_select,y_train=y_train)\n",
    "results_dummy"
   ]
  },
  {
   "cell_type": "markdown",
   "metadata": {},
   "source": [
    "The dummy's accuracy score is very high (0.92) due to the classes imbalance. This shows the need for a custom score. "
   ]
  },
  {
   "cell_type": "markdown",
   "metadata": {},
   "source": [
    "### Logistic Regression"
   ]
  },
  {
   "cell_type": "code",
   "execution_count": null,
   "metadata": {},
   "outputs": [],
   "source": [
    "mlflow.sklearn.autolog(extra_tags={'mlflow.runName': 'LogisticRegression'})"
   ]
  },
  {
   "cell_type": "code",
   "execution_count": null,
   "metadata": {},
   "outputs": [],
   "source": [
    "model=LogisticRegression(random_state=33)\n",
    "params={'classification__penalty' : ['elasticnet', None], 'classification__l1_ratio':[0,0.2,0.5,0.7,1],'classification__C': [0.1,1,2,5, 10.]}\n",
    "best_estimator_, results_lr=get_grid_cv_scores(model,params,custom_score=custom_score,X_train=X_train_select,y_train=y_train)"
   ]
  },
  {
   "cell_type": "code",
   "execution_count": null,
   "metadata": {},
   "outputs": [],
   "source": [
    "best_estimator_"
   ]
  },
  {
   "cell_type": "code",
   "execution_count": null,
   "metadata": {},
   "outputs": [],
   "source": [
    "results_lr.dropna(axis=0).sort_values('mean_test_Custom_scorer',ascending=False)"
   ]
  },
  {
   "cell_type": "code",
   "execution_count": null,
   "metadata": {},
   "outputs": [],
   "source": [
    "plot_metric_results(results_lr.dropna(axis=0).sort_values('mean_test_Custom_scorer',ascending=False))"
   ]
  },
  {
   "cell_type": "markdown",
   "metadata": {},
   "source": [
    "### SVC with gaussian kernel"
   ]
  },
  {
   "cell_type": "code",
   "execution_count": null,
   "metadata": {},
   "outputs": [],
   "source": [
    "mlflow.sklearn.autolog(extra_tags={'mlflow.runName': 'SVC'})"
   ]
  },
  {
   "cell_type": "code",
   "execution_count": null,
   "metadata": {},
   "outputs": [],
   "source": [
    "model=SVC(random_state=33)\n",
    "params={'classification__kernel':['rbf'], 'classification__C':[0.01,1,10], 'classification__gamma':[0.1,0.5,1]}\n",
    "best_estimator_, results_svc=get_grid_cv_scores(model,params,custom_score=custom_score,X_train=X_train_select,y_train=y_train)"
   ]
  },
  {
   "cell_type": "code",
   "execution_count": null,
   "metadata": {},
   "outputs": [],
   "source": [
    "results_svc.dropna(axis=0)"
   ]
  },
  {
   "cell_type": "code",
   "execution_count": null,
   "metadata": {},
   "outputs": [],
   "source": [
    "plot_metric_results(results_svc.dropna(axis=0))"
   ]
  },
  {
   "cell_type": "markdown",
   "metadata": {},
   "source": [
    "### Random Forest"
   ]
  },
  {
   "cell_type": "code",
   "execution_count": null,
   "metadata": {},
   "outputs": [],
   "source": [
    "mlflow.sklearn.autolog(extra_tags={'mlflow.runName': 'RandomForest'})"
   ]
  },
  {
   "cell_type": "code",
   "execution_count": null,
   "metadata": {},
   "outputs": [],
   "source": [
    "model=RandomForestClassifier(random_state=33)\n",
    "# First step is to select best n_estimators\n",
    "params={'classification__n_estimators':[5,10,20,50,100,200,300],\n",
    "        }\n",
    "best_estimator_, results_rf=get_grid_cv_scores(model,params,custom_score=custom_score,X_train=X_train_select,y_train=y_train)"
   ]
  },
  {
   "cell_type": "code",
   "execution_count": null,
   "metadata": {},
   "outputs": [],
   "source": [
    "best_estimator_"
   ]
  },
  {
   "cell_type": "code",
   "execution_count": null,
   "metadata": {},
   "outputs": [],
   "source": [
    "results_rf.dropna(axis=0)"
   ]
  },
  {
   "cell_type": "code",
   "execution_count": null,
   "metadata": {},
   "outputs": [],
   "source": [
    "plot_metric_results(results_rf.dropna(axis=0))"
   ]
  },
  {
   "cell_type": "code",
   "execution_count": null,
   "metadata": {},
   "outputs": [],
   "source": [
    "model=RandomForestClassifier(random_state=33)\n",
    "# Then the other parameters can be tested with the selected n_estimators\n",
    "params={'classification__n_estimators':[20],\n",
    "        'classification__min_samples_leaf':[1, 2, 4, 10,12,13,14,15,16, 20],\n",
    "        'classification__max_depth':[3, 5, 10, 14, None],\n",
    "        'classification__max_features':['log2', 'sqrt', None]\n",
    "        }\n",
    "best_estimator_, results_rf=get_grid_cv_scores(model,params,custom_score=custom_score,X_train=X_train_select,y_train=y_train)"
   ]
  },
  {
   "cell_type": "code",
   "execution_count": null,
   "metadata": {},
   "outputs": [],
   "source": [
    "best_estimator_"
   ]
  },
  {
   "cell_type": "code",
   "execution_count": null,
   "metadata": {},
   "outputs": [],
   "source": [
    "results_rf.dropna(axis=0).sort_values('mean_test_Custom_scorer',ascending=False).head(10)"
   ]
  },
  {
   "cell_type": "code",
   "execution_count": null,
   "metadata": {},
   "outputs": [],
   "source": [
    "plot_metric_results(results_rf.dropna(axis=0).sort_values('mean_test_Custom_scorer',ascending=False).head(10))"
   ]
  },
  {
   "cell_type": "markdown",
   "metadata": {},
   "source": [
    "### XGBoost"
   ]
  },
  {
   "cell_type": "code",
   "execution_count": null,
   "metadata": {},
   "outputs": [],
   "source": [
    "mlflow.sklearn.autolog(extra_tags={'mlflow.runName': 'XGBoost'})"
   ]
  },
  {
   "cell_type": "code",
   "execution_count": null,
   "metadata": {},
   "outputs": [],
   "source": [
    "#First step if determining best n_estimators with a high learning rate\n",
    "model=XGBClassifier(random_state=33)\n",
    "# Then the other parameters can be tested with the selected n_estimators\n",
    "params= {'classification__learning_rate' : [0.1],\n",
    "        'classification__n_estimators' : [40,60,80,100,150,250,300]}\n",
    "best_estimator_, results_xgb=get_grid_cv_scores(model,params,custom_score=custom_score,X_train=X_train_select,y_train=y_train)"
   ]
  },
  {
   "cell_type": "code",
   "execution_count": null,
   "metadata": {},
   "outputs": [],
   "source": [
    "results_xgb.dropna(axis=0).sort_values('mean_test_Custom_scorer',ascending=False).head(10)"
   ]
  },
  {
   "cell_type": "code",
   "execution_count": null,
   "metadata": {},
   "outputs": [],
   "source": [
    "plot_metric_results(results_xgb.dropna(axis=0).sort_values('mean_test_Custom_scorer').head(10))"
   ]
  },
  {
   "cell_type": "code",
   "execution_count": null,
   "metadata": {},
   "outputs": [],
   "source": [
    "best_estimator_"
   ]
  },
  {
   "cell_type": "code",
   "execution_count": null,
   "metadata": {},
   "outputs": [],
   "source": [
    "#Second step is finding other parameters\n",
    "model=XGBClassifier(random_state=33)\n",
    "# Then the other parameters can be tested with the selected n_estimators\n",
    "params= {'classification__learning_rate' : [0.1],\n",
    "              'classification__n_estimators' : [40],\n",
    "              'classification__subsample' : [0.1,0.3, 0.5, 0.7,0.9],\n",
    "              'classification__colsample_bytree' : [0.1,0.3,0.5,0.7,0.9],\n",
    "              'classification__max_depth': [4,6,8,10],\n",
    "              'classification__gamma': [0, 0.25, 0.5, 1.0],\n",
    "              }\n",
    "\n",
    "best_estimator_, results_xgb=get_grid_cv_scores(model,params,custom_score=custom_score,X_train=X_train_select,y_train=y_train)"
   ]
  },
  {
   "cell_type": "code",
   "execution_count": null,
   "metadata": {},
   "outputs": [],
   "source": [
    "best_estimator_"
   ]
  },
  {
   "cell_type": "code",
   "execution_count": null,
   "metadata": {},
   "outputs": [],
   "source": [
    "results_xgb.dropna(axis=0).sort_values('mean_test_Custom_scorer',ascending=False).head(10)"
   ]
  },
  {
   "cell_type": "code",
   "execution_count": null,
   "metadata": {},
   "outputs": [],
   "source": [
    "plot_metric_results(results_xgb.dropna(axis=0).sort_values('mean_test_Custom_scorer',ascending=False).head(10))"
   ]
  },
  {
   "cell_type": "code",
   "execution_count": null,
   "metadata": {},
   "outputs": [],
   "source": [
    "#Last step is lowering learning rate and incresing n_estimators to fine tune regularization parameters\n",
    "model=XGBClassifier(random_state=33)\n",
    "params= {'classification__learning_rate' :  [0.01,0.03,0.05,0.1],\n",
    "              'classification__n_estimators' : [40,80,100,150,200,300],\n",
    "              'classification__subsample' : [0.7],\n",
    "              'classification__colsample_bytree' : [0.3],\n",
    "              'classification__max_depth': [4],\n",
    "              'classification__gamma': [0.5],\n",
    "              'classification__alpha' : [0.001,0.0025,0.005,0.007,0.1], #reg L1\n",
    "              'classification__lambda' : [0.001, 0.0025,0.005,0.007,0.1] #reg L2\n",
    "              }\n",
    "\n",
    "best_estimator_, results_xgb=get_grid_cv_scores(model,params,custom_score=custom_score,X_train=X_train_select,y_train=y_train)"
   ]
  },
  {
   "cell_type": "code",
   "execution_count": null,
   "metadata": {},
   "outputs": [],
   "source": [
    "best_estimator_"
   ]
  },
  {
   "cell_type": "code",
   "execution_count": null,
   "metadata": {},
   "outputs": [],
   "source": [
    "results_xgb.dropna(axis=0).sort_values('mean_test_Custom_scorer',ascending=False).head(10)"
   ]
  },
  {
   "cell_type": "code",
   "execution_count": null,
   "metadata": {},
   "outputs": [],
   "source": [
    "plot_metric_results(results_xgb.dropna(axis=0).sort_values('mean_test_Custom_scorer',ascending=False).head(10))"
   ]
  },
  {
   "cell_type": "code",
   "execution_count": null,
   "metadata": {},
   "outputs": [],
   "source": [
    "results_xgb.dropna(axis=0).sort_values('mean_test_Custom_scorer',ascending=False).iloc[0]"
   ]
  },
  {
   "cell_type": "code",
   "execution_count": null,
   "metadata": {},
   "outputs": [],
   "source": [
    "results_xgb.dropna(axis=0).sort_values('mean_test_Custom_scorer',ascending=False).iloc[0]['params']"
   ]
  },
  {
   "cell_type": "markdown",
   "metadata": {},
   "source": [
    "### LightGMB with kernel parameters"
   ]
  },
  {
   "cell_type": "code",
   "execution_count": null,
   "metadata": {},
   "outputs": [],
   "source": [
    "mlflow.sklearn.autolog(extra_tags={'mlflow.runName': 'LightGBM'})"
   ]
  },
  {
   "cell_type": "code",
   "execution_count": null,
   "metadata": {},
   "outputs": [],
   "source": [
    "#Model as proposed in the selected kernel\n",
    "model = LGBMClassifier(\n",
    "            nthread=4,\n",
    "            learning_rate=0.02,\n",
    "            num_leaves=34,\n",
    "            colsample_bytree=0.9497036,\n",
    "            subsample=0.8715623,\n",
    "            max_depth=8,\n",
    "            reg_alpha=0.041545473,\n",
    "            reg_lambda=0.0735294,\n",
    "            min_split_gain=0.0222415,\n",
    "            min_child_weight=39.3259775,\n",
    "            silent=-1,\n",
    "            verbose=-1, )"
   ]
  },
  {
   "cell_type": "code",
   "execution_count": null,
   "metadata": {},
   "outputs": [],
   "source": [
    "#LGBM requires a Dataframe without column names\n",
    "X_train_select_without_columns=X_train_select.copy()\n",
    "X_train_select_without_columns.columns=list(range(len(X_train_select.columns)))\n",
    "X_train_select_without_columns"
   ]
  },
  {
   "cell_type": "code",
   "execution_count": null,
   "metadata": {},
   "outputs": [],
   "source": [
    "params={'classification__n_estimators':[1000]}\n",
    "_,results_lgbm=get_grid_cv_scores(model,params,custom_score=custom_score,X_train=X_train_select_without_columns,y_train=y_train)\n",
    "results_lgbm"
   ]
  },
  {
   "cell_type": "markdown",
   "metadata": {},
   "source": [
    "## Best estimator feature importance"
   ]
  },
  {
   "cell_type": "markdown",
   "metadata": {},
   "source": [
    "### Model feature importance"
   ]
  },
  {
   "cell_type": "code",
   "execution_count": null,
   "metadata": {},
   "outputs": [],
   "source": [
    "best=LogisticRegression(penalty=None, random_state=33)"
   ]
  },
  {
   "cell_type": "code",
   "execution_count": null,
   "metadata": {},
   "outputs": [],
   "source": [
    "pipeline = Pipeline([\n",
    "            ('sampling', SMOTE()),\n",
    "            ('classification', best)\n",
    "        ])"
   ]
  },
  {
   "cell_type": "code",
   "execution_count": null,
   "metadata": {},
   "outputs": [],
   "source": [
    "#Fit on the whole training dataset\n",
    "pipeline.fit(X_train_select,y_train)"
   ]
  },
  {
   "cell_type": "code",
   "execution_count": null,
   "metadata": {},
   "outputs": [],
   "source": [
    "pred=pipeline.predict(X_test_select)\n",
    "matrix=confusion_matrix(y_test, pred,labels=pipeline['classification'].classes_)\n",
    "cm=ConfusionMatrixDisplay(matrix,display_labels=pipeline['classification'].classes_)\n",
    "cm.plot()\n",
    "plt.show()"
   ]
  },
  {
   "cell_type": "code",
   "execution_count": null,
   "metadata": {},
   "outputs": [],
   "source": [
    "roc_auc_score(y_test,pred).round(2)"
   ]
  },
  {
   "cell_type": "code",
   "execution_count": null,
   "metadata": {},
   "outputs": [],
   "source": [
    "pipeline['classification']"
   ]
  },
  {
   "cell_type": "code",
   "execution_count": null,
   "metadata": {},
   "outputs": [],
   "source": [
    "shap_values.shape"
   ]
  },
  {
   "cell_type": "code",
   "execution_count": null,
   "metadata": {},
   "outputs": [],
   "source": [
    "explainer = shap.LinearExplainer(pipeline['classification'],X_test_select)\n",
    "shap_values = explainer.shap_values(X_test_select)\n",
    "plt.figure(figsize=(15,10))\n",
    "shap.summary_plot(shap_values, X_test_select,plot_type='bar',max_display=50)\n",
    "plt.show()"
   ]
  },
  {
   "cell_type": "code",
   "execution_count": null,
   "metadata": {},
   "outputs": [],
   "source": [
    "shap.summary_plot(shap_values, X_test_select,plot_type='violin')\n",
    "plt.show()"
   ]
  },
  {
   "cell_type": "code",
   "execution_count": null,
   "metadata": {},
   "outputs": [],
   "source": [
    "shap.waterfall_plot(explainer(X_test_select)[33])"
   ]
  },
  {
   "cell_type": "markdown",
   "metadata": {},
   "source": [
    "### Feature selection with random feature"
   ]
  },
  {
   "cell_type": "markdown",
   "metadata": {},
   "source": [
    "After first run of model selection with sample of dataset, the best model is RandomForest. Feature importance on this model will be used to select features and re-run model selection with a new dataset consisting of all rows but selected columns."
   ]
  },
  {
   "cell_type": "code",
   "execution_count": null,
   "metadata": {},
   "outputs": [],
   "source": [
    "best=RandomForestClassifier(max_depth=5, max_features='log2', min_samples_leaf=10,n_estimators=10, random_state=33)"
   ]
  },
  {
   "cell_type": "code",
   "execution_count": null,
   "metadata": {},
   "outputs": [],
   "source": [
    "#Add a feature consisting of random numbers\n",
    "X2=X_train_scaled.copy()\n",
    "X2['random']=np.random.random(X_train_scaled.shape[0])\n",
    "X2_test=X_test_scaled.copy()\n",
    "X2_test['random']=np.random.random(X2_test.shape[0])\n"
   ]
  },
  {
   "cell_type": "code",
   "execution_count": null,
   "metadata": {},
   "outputs": [],
   "source": [
    "pipeline.fit(X=X2,y=y_train)\n",
    "plt.figure(figsize=(15,10))\n",
    "explainer = shap.Explainer(pipeline['classification'])\n",
    "shap_values = explainer.shap_values(X2_test)\n",
    "shap.summary_plot(shap_values[:,:], X2_test,plot_type='bar',max_display=50)\n",
    "plt.show()"
   ]
  },
  {
   "cell_type": "code",
   "execution_count": null,
   "metadata": {},
   "outputs": [],
   "source": [
    "shap.summary_plot(shap_values[:,:], X2_test,plot_type='violin',max_display=50)\n",
    "plt.show()"
   ]
  },
  {
   "cell_type": "markdown",
   "metadata": {},
   "source": [
    "All features below the random introduced feature can be removed."
   ]
  },
  {
   "cell_type": "code",
   "execution_count": null,
   "metadata": {},
   "outputs": [],
   "source": [
    "vals= np.abs(shap_values[:,:,0]).mean(0)\n",
    "columns=X2.columns\n",
    "feature_importance=pd.DataFrame.from_dict(dict(zip(columns,vals)),orient='index').sort_values(0,ascending=False)\n",
    "display(feature_importance.loc[:'random'].iloc[:-1])\n",
    "features_to_keep=(feature_importance.loc[:'random'].iloc[:-1]).index.to_list()"
   ]
  },
  {
   "cell_type": "code",
   "execution_count": null,
   "metadata": {},
   "outputs": [],
   "source": [
    "features_to_keep"
   ]
  },
  {
   "cell_type": "code",
   "execution_count": null,
   "metadata": {},
   "outputs": [],
   "source": [
    "X_train_select=X_train_scaled[features_to_keep]\n",
    "X_train_select.shape"
   ]
  },
  {
   "cell_type": "markdown",
   "metadata": {},
   "source": [
    "## Find best threshold"
   ]
  },
  {
   "cell_type": "code",
   "execution_count": null,
   "metadata": {},
   "outputs": [],
   "source": [
    "def get_scores_for_threshold(pipeline,threshold_list,X=X_train_sample,y=y_train_sample):\n",
    "    \"\"\" Compute custom scores obtained by model using different thresholds to determine a class from the probability outputed by the model.\n",
    "\n",
    "    Parameters\n",
    "    ----------\n",
    "    pipeline : sklean pipeline or equivalement\n",
    "        Pipeline containing the fitted model and preprocessing steps.\n",
    "    threshold_list : list\n",
    "        List of thresholds (floats) to test\n",
    "    X : pd.Dataframe, optional\n",
    "        The features dataframe, by default X_train_sample\n",
    "    y :pd.Series, optional\n",
    "        the target, by default y_train_sample\n",
    "\n",
    "    Returns\n",
    "    -------\n",
    "    pd.Dataframe\n",
    "        Scores obtained by threshold\n",
    "    \"\"\"\n",
    "    proba=pd.DataFrame(pipeline.predict_proba(X))\n",
    "    scores={}\n",
    "    for threshold in threshold_list:\n",
    "        prediction=(proba[0]<threshold).astype(int)\n",
    "        scores[threshold]=custom_loss(y,prediction)\n",
    "    return(pd.DataFrame.from_dict(scores,orient=\"index\",columns=['custom_score']))"
   ]
  },
  {
   "cell_type": "code",
   "execution_count": null,
   "metadata": {},
   "outputs": [],
   "source": [
    "scores_by_thresh=get_scores_for_threshold(pipeline,[0.1,0.2,0.3,0.4,0.5,0.55,0.6,0.65,0.7,0.8,0.9])\n",
    "scores_by_thresh"
   ]
  },
  {
   "cell_type": "code",
   "execution_count": null,
   "metadata": {},
   "outputs": [],
   "source": [
    "sns.lineplot(scores_by_thresh,markers=True)\n",
    "plt.title('Custom score by threshold')\n",
    "for row in scores_by_thresh.iterrows():\n",
    "    plt.annotate(row[1].values[0],(row[0],row[1]+0.5))\n",
    "plt.legend([])\n",
    "plt.show()"
   ]
  },
  {
   "cell_type": "code",
   "execution_count": null,
   "metadata": {},
   "outputs": [],
   "source": [
    "best_threshold=scores_by_thresh.idxmin().values[0]\n",
    "best_threshold"
   ]
  }
 ],
 "metadata": {
  "kernelspec": {
   "display_name": "projet7-PQQbXjaB-py3.11",
   "language": "python",
   "name": "python3"
  },
  "language_info": {
   "codemirror_mode": {
    "name": "ipython",
    "version": 3
   },
   "file_extension": ".py",
   "mimetype": "text/x-python",
   "name": "python",
   "nbconvert_exporter": "python",
   "pygments_lexer": "ipython3",
   "version": "3.11.3"
  }
 },
 "nbformat": 4,
 "nbformat_minor": 2
}
